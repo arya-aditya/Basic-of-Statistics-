{
 "cells": [
  {
   "cell_type": "markdown",
   "id": "b22a132e-8f28-4b1c-a60b-4a7a4bbce0e8",
   "metadata": {},
   "source": [
    "# Basic stats 2"
   ]
  },
  {
   "cell_type": "code",
   "execution_count": 6,
   "id": "671a808a-b27b-433a-b922-842ccd56c03c",
   "metadata": {},
   "outputs": [],
   "source": [
    "import numpy as np\n",
    "import numpy as py\n",
    "from scipy import stats\n"
   ]
  },
  {
   "cell_type": "code",
   "execution_count": 7,
   "id": "c6531ac9-dd28-4b9d-b117-32dfac1e86a1",
   "metadata": {},
   "outputs": [],
   "source": [
    "# Load the given data \n",
    "durability = np.array([1.13, 1.55, 1.43, 0.92, 1.25, 1.36, 1.32, 0.85, 1.07, 1.48, 1.20, 1.33, 1.18, 1.22, 1.29])\n",
    "\n",
    "# Sample size\n",
    "n = len(durability)\n",
    "\n",
    "# Sample mean\n",
    "mean_durability = np.mean(durability)\n",
    "\n",
    "# Sample standard deviation\n",
    "std_dev_sample = np.std(durability, ddof=1)\n",
    "\n",
    "# Degrees of freedom\n",
    "df = n - 1"
   ]
  },
  {
   "cell_type": "code",
   "execution_count": 8,
   "id": "8906f2b6-103d-440a-961f-3acd5076a0fa",
   "metadata": {},
   "outputs": [
    {
     "data": {
      "text/plain": [
       "14"
      ]
     },
     "execution_count": 8,
     "metadata": {},
     "output_type": "execute_result"
    }
   ],
   "source": [
    "df"
   ]
  },
  {
   "cell_type": "markdown",
   "id": "d0703f4d-5ade-445f-8e30-a211c7c77b76",
   "metadata": {},
   "source": [
    "**a. Build 99% Confidence Interval Using Sample Standard Deviation**"
   ]
  },
  {
   "cell_type": "code",
   "execution_count": 10,
   "id": "8a6aef5b-0d88-4811-ae4f-fdb5ed0024d2",
   "metadata": {},
   "outputs": [
    {
     "name": "stdout",
     "output_type": "stream",
     "text": [
      "Confidence Interval using Sample Standard Deviation (99%): (1.090197338451367, 1.3871359948819662)\n"
     ]
    }
   ],
   "source": [
    "# Confidence level\n",
    "confidence_level = 0.99\n",
    "\n",
    "# t-critical value\n",
    "t_critical = stats.t.ppf((1 + confidence_level) / 2, df)\n",
    "\n",
    "# Margin of error for sample standard deviation\n",
    "margin_of_error_sample = t_critical * (std_dev_sample / np.sqrt(n))\n",
    "\n",
    "# Confidence interval using sample standard deviation\n",
    "confidence_interval_sample = (mean_durability - margin_of_error_sample, mean_durability + margin_of_error_sample)\n",
    "\n",
    "print(f\"Confidence Interval using Sample Standard Deviation (99%): ({confidence_interval_sample[0]}, {confidence_interval_sample[1]})\")\n"
   ]
  },
  {
   "cell_type": "code",
   "execution_count": null,
   "id": "6e338c2d-f01a-448c-a3d0-c2c4d9b10bdd",
   "metadata": {},
   "outputs": [],
   "source": []
  },
  {
   "cell_type": "code",
   "execution_count": null,
   "id": "8077e8e6-7229-4c9a-bdee-577cd69644df",
   "metadata": {},
   "outputs": [],
   "source": []
  },
  {
   "cell_type": "markdown",
   "id": "810a6cb9-d1a6-497c-bbdd-2bed20494a32",
   "metadata": {},
   "source": [
    "**b. Build 99% Confidence Interval Using Known Population Standard Deviation**"
   ]
  },
  {
   "cell_type": "code",
   "execution_count": 11,
   "id": "769a45cb-d49a-48ba-96f0-9d001e3ffefa",
   "metadata": {},
   "outputs": [
    {
     "name": "stdout",
     "output_type": "stream",
     "text": [
      "Confidence Interval using Known Population Standard Deviation: (1.1056514133957607, 1.3716819199375725)\n"
     ]
    }
   ],
   "source": [
    "# Known population standard deviation\n",
    "std_dev_population = 0.2\n",
    "\n",
    "# Margin of error for known population standard deviation\n",
    "margin_of_error_population = stats.norm.ppf((1 + confidence_level) / 2) * (std_dev_population / np.sqrt(n))\n",
    "\n",
    "# Confidence interval using known population standard deviation\n",
    "confidence_interval_population = (mean_durability - margin_of_error_population, mean_durability + margin_of_error_population)\n",
    "\n",
    "print(\"Confidence Interval using Known Population Standard Deviation:\", confidence_interval_population)\n"
   ]
  },
  {
   "cell_type": "code",
   "execution_count": null,
   "id": "34c10f5f-f225-4d0b-a567-983b81dcfd82",
   "metadata": {},
   "outputs": [],
   "source": []
  }
 ],
 "metadata": {
  "kernelspec": {
   "display_name": "Python 3 (ipykernel)",
   "language": "python",
   "name": "python3"
  },
  "language_info": {
   "codemirror_mode": {
    "name": "ipython",
    "version": 3
   },
   "file_extension": ".py",
   "mimetype": "text/x-python",
   "name": "python",
   "nbconvert_exporter": "python",
   "pygments_lexer": "ipython3",
   "version": "3.11.7"
  }
 },
 "nbformat": 4,
 "nbformat_minor": 5
}
